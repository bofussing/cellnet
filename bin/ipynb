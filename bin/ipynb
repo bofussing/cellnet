#!/bin/bash
#SBATCH -J ipynb
#SBATCH -t 06:59:00
#SBATCH --ntasks=1
#SBATCH --mem=40G
#SBATCH --cpus-per-task=8
#SBATCH --partition=gpu
#SBATCH --gres=gpu:tesla:1
#SBATCH --mail-user=benjamin.eckhardt@ut.ee
#SBATCH -A revvity
#SBATCH -o _____________j.RUNNING


STARTTIME="$(date +%y%m%d-%H%M%S)"
INPUT="$1"

NAME="$(basename "$INPUT" .py)"
INDIR="$(dirname "$INPUT")"   # NOTE this is designed to run in the repo root
if [ "$INDIR" =  "" ]; then INDIR="."; fi
if [ "$INDIR" = "." ]; then ENV="$NAME"; else ENV="$(basename "$INDIR")"; fi
OUTDIR="./results/$INDIR/$NAME/$STARTTIME-RUNNING"

echo -e "  ===  RUNNING $INPUT at $STARTTIME ===  \n"

#nvidia-smi


conda=micromamba
$conda shell init --shell=bash                     >/dev/null
eval "$($conda shell hook --shell=bash)"           >/dev/null 
$conda activate "$ENV" || $conda activate cellnet  >/dev/null


mkdir -p "$OUTDIR"

rsync -a "." "$OUTDIR" --exclude .git --exclude results --filter=':- .gitignore'

INPUT="$OUTDIR/$NAME.py"
OUTPUT="$OUTDIR/$NAME.ipynb"
mv "$OUTDIR/$INDIR/$NAME.py" "$INPUT"

TIMESTAMPFILE="$OUTDIR/$STARTTIME-TIMESTAMP"
touch "$TIMESTAMPFILE"
SECONDS=0


jupytext --to notebook --execute -o "$OUTPUT" "$INPUT"


duration="$SECONDS"
RUNTIME="$(date -ud "@$duration" +%H%M%S)"
echo -e "\n> Notebook execution time (hhmmss) $RUNTIME"

find "$OUTDIR" ! -newer "$TIMESTAMPFILE" ! -wholename "$TIMESTAMPFILE" -not -path '.gitignore' -delete
find "$OUTDIR" -depth ! -newer "$TIMESTAMPFILE" -not -path '.gitignore' -type d -empty -delete
rm "$TIMESTAMPFILE"

mv "_____________$SLURM_JOBID.RUNNING" "$OUTDIR/$SLURM_JOBID.log"

mv "$OUTDIR" "${OUTDIR%"-RUNNING"}-$RUNTIME"

