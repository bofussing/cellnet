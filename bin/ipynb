#!/bin/bash
#SBATCH -J ipynb
#SBATCH -t 06:59:00
#SBATCH --ntasks=1
#SBATCH --mem=40G
#SBATCH --cpus-per-task=8
#SBATCH --partition=gpu
#SBATCH --gres=gpu:tesla:1
#SBATCH --mail-user=benjamin.eckhardt@ut.ee
#SBATCH -A revvity
#SBATCH -o ------------%j.SLURM


STARTTIME="$(date +%y%m%d-%H%M%S)"
FILE="$1"

NAME="$(basename "$FILE" .py)"
SUBDIR="$(dirname "$FILE")"   # NOTE this is designed to run in the repo root
if [ "$SUBDIR" = "" ]; then SUBDIR="."; fi
ENV="$(basename "$SUBDIR")"
if [ "$SUBDIR" = "." ]; then ENV="$NAME"; fi
OUTDIR="./results/$SUBDIR/$NAME/$STARTTIME"
WORKING="$SUBDIR/$STARTTIME.ipynb"
TIMESTAMPFILE="$SUBDIR/$STARTTIME-TIMESTAMP"

mkdir -p "$OUTDIR"

echo -e "  ===  RUNNING $FILE at $STARTTIME ===  \n"
touch "$TIMESTAMPFILE"

#nvidia-smi

conda=micromamba

$conda shell init --shell=bash                     >/dev/null
eval "$($conda shell hook --shell=bash)"           >/dev/null 
$conda activate "$ENV" || $conda activate cellnet  >/dev/null


SECONDS=0
jupytext --to notebook --execute -o "$WORKING" "$FILE"

duration="$SECONDS"
RUNTIME="$(date -ud "@$duration" +%H%M%S)"
echo -e "\n> Notebook execution time (hhmmss) $RUNTIME"

RESULT="$OUTDIR/$RUNTIME"
if [ $# = 2 ]; then
  RESULT="$RESULT-$2"; fi
RESULT="$RESULT.ipynb"


find "$SUBDIR" -newer "$TIMESTAMPFILE" -not -path '.gitignore' | while IFS= read -r out; do
  if [ -d "$out" ]; then
    mkdir -p "$OUTDIR/${out#"$SUBDIR"}"
  else
    mv "$out" "$OUTDIR/${out#"$SUBDIR"}"
  fi
done

(mv "$OUTDIR/$STARTTIME.ipynb" "$OUTDIR/$RUNTIME.ipynb" && echo -e "\e[1;32m> Saved to $RESULT\e[0m") \
 || echo -e "\e[1;5;31m> Failed to save $RESULT\e[0m"

find "$SUBDIR" -depth -newer "$TIMESTAMPFILE" -not -path '.gitignore' -type d -empty -delete


rm "$TIMESTAMPFILE"

