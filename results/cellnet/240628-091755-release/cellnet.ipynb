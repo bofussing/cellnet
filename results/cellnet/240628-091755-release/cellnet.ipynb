{
 "cells": [
  {
   "cell_type": "markdown",
   "id": "cd0eb365",
   "metadata": {},
   "source": [
    "# CellNet"
   ]
  },
  {
   "cell_type": "code",
   "execution_count": 1,
   "id": "9fc6ab3b",
   "metadata": {
    "execution": {
     "iopub.execute_input": "2024-06-28T06:18:37.257686Z",
     "iopub.status.busy": "2024-06-28T06:18:37.257100Z",
     "iopub.status.idle": "2024-06-28T06:18:59.347413Z",
     "shell.execute_reply": "2024-06-28T06:18:59.346455Z"
    },
    "title": "# Imports"
   },
   "outputs": [
    {
     "name": "stderr",
     "output_type": "stream",
     "text": [
      "INFO:albumentations.check_version:A new version of Albumentations is available: 1.4.10 (you have 1.4.7). Upgrade using: pip install --upgrade albumentations\n"
     ]
    },
    {
     "name": "stdout",
     "output_type": "stream",
     "text": [
      "device = cuda:0\n",
      "DRAFT = False\n"
     ]
    }
   ],
   "source": [
    "IMAGES = 'all'; AUGS = 'val'\n",
    "#P = 'sigma'; ps = [3.0, 3.5, 4.0, 4.5, 5.0, 5.5, 6.0, 6.5, 7.0]\n",
    "P = 'sigma'; ps = [5.0]\n",
    "RELEASE = True\n",
    "\n",
    "\n",
    "import matplotlib.pyplot as plt\n",
    "import pandas as pd\n",
    "import torch\n",
    "import numpy as np\n",
    "\n",
    "import albumentations as A\n",
    "from albumentations.pytorch import ToTensorV2\n",
    "\n",
    "import os\n",
    "import ast\n",
    "from math import prod\n",
    "from types import SimpleNamespace as obj\n",
    "import json\n",
    "\n",
    "import util.data as data\n",
    "import util.plot as plot\n",
    "\n",
    "\n",
    "CUDA = torch.cuda.is_available()\n",
    "device = torch.device('cuda:0' if CUDA else 'cpu'); print('device =', device)\n",
    "DRAFT = False if os.getenv('BATCHED_RUN', '0')=='1' else True; print('DRAFT =', DRAFT)\n",
    "\n",
    "def gpu(x, device=device): return torch.from_numpy(x).float().to(device)\n",
    "def cpu(x): return x.detach().cpu().numpy() if isinstance(x, torch.Tensor) else np.array(x) if isinstance(x, list) else x\n",
    "\n",
    "key2text = {'tl': 'Training Loss',     'vl': 'Validation Loss', \n",
    "            'ta': 'Training Accuracy', 'va': 'Validation Accuracy', \n",
    "            'ti': 'Training Image',    'vi': 'Validation Image',\n",
    "            'lf': 'Loss Function',     'lr': 'Learning Rate',\n",
    "            'e' : 'Epoch',             'bs': 'Batch Size',\n",
    "            'fraction': 'Fraction of Data',  'sparsity': 'Artificial Sparsity',  \n",
    "            'sigma': 'Gaussian Sigma',        'maxdist': 'Max Distance',\n",
    "            'rmbad': 'Prop. of Difficult Labels Removed'\n",
    "            }\n",
    "\n",
    "CROPSIZE=256\n",
    "\n",
    "\n",
    "cfg_base = obj(\n",
    "  epochs=(5 if CUDA else 1) if DRAFT else 101 if not RELEASE else 501,\n",
    "  sigma=5.0,  # NOTE: do grid search again later when better convergence \n",
    "  maxdist=26, \n",
    "  fraction=1, \n",
    "  sparsity=1,\n",
    "  lr_steps=1.25 if not RELEASE else 3.5,\n",
    "  lr_gamma=0.1,\n",
    "  rmbad=0,\n",
    ")"
   ]
  },
  {
   "cell_type": "code",
   "execution_count": 2,
   "id": "a313db3d",
   "metadata": {
    "execution": {
     "iopub.execute_input": "2024-06-28T06:18:59.350624Z",
     "iopub.status.busy": "2024-06-28T06:18:59.350262Z",
     "iopub.status.idle": "2024-06-28T06:19:00.874502Z",
     "shell.execute_reply": "2024-06-28T06:19:00.873727Z"
    },
    "title": "# Load Data"
   },
   "outputs": [],
   "source": [
    "XNorm, _xmean, _xstd = data.mk_XNorm([1,2,4])\n",
    "\n",
    "def mkAugs(mode):\n",
    "  T = lambda ts:  A.Compose(transforms=[\n",
    "    A.PadIfNeeded(CROPSIZE, CROPSIZE, border_mode=0, value=0),\n",
    "    *ts,\n",
    "    XNorm(), \n",
    "    A.PadIfNeeded(CROPSIZE, CROPSIZE, border_mode=0, value=0),\n",
    "    ToTensorV2(transpose_mask=True, always_apply=True)], \n",
    "    keypoint_params=A.KeypointParams(format='xy', label_fields=['class_labels'], remove_invisible=True) # type: ignore\n",
    "  )\n",
    "\n",
    "  vals = [A.D4(),\n",
    "          ]\n",
    "\n",
    "  return dict(\n",
    "    test  = T([]),\n",
    "    val   = T([A.RandomCrop(CROPSIZE, CROPSIZE, p=1),\n",
    "               *vals]),\n",
    "    train = T([\n",
    "               A.RandomCrop(CROPSIZE, CROPSIZE, p=1),\n",
    "              #A.RandomSizedCrop(p=1, min_max_height=(CROPSIZE//2, CROPSIZE*2), height=CROPSIZE, width=CROPSIZE),\n",
    "              # NOTE: issue with resize is that the keypoint sizes will not be updated\n",
    "               A.Rotate(),\n",
    "               A.AdvancedBlur(),\n",
    "               A.Equalize(),\n",
    "               A.ColorJitter(), \n",
    "               A.GaussNoise(),\n",
    "               *vals])\n",
    "  )[mode]\n",
    "\n",
    "batch2cpu = lambda B, z=None, y=None: [obj(**{k:cpu(v) for v,k in zip(b, 'xmklzy')}) \n",
    "              for b in zip(B['image'], B['masks'][0], B['keypoints'], B['class_labels'], \n",
    "              *([] if z is None else [z]), *([] if y is None else [y]))]"
   ]
  },
  {
   "cell_type": "code",
   "execution_count": 3,
   "id": "98ed1020",
   "metadata": {
    "execution": {
     "iopub.execute_input": "2024-06-28T06:19:00.878755Z",
     "iopub.status.busy": "2024-06-28T06:19:00.878457Z",
     "iopub.status.idle": "2024-06-28T06:19:00.885339Z",
     "shell.execute_reply": "2024-06-28T06:19:00.884220Z"
    },
    "lines_to_next_cell": 2,
    "title": "# Plot data"
   },
   "outputs": [],
   "source": [
    "if DRAFT and not CUDA: \n",
    "  kp2hm, yunnorm = data.mk_kp2mh_yunnorm([1,2,4], cfg_base)\n",
    "\n",
    "  def plot_grid(grid, **loader_kwargs):\n",
    "    loader = data.mk_loader([1], cfg=cfg_base, bs=prod(grid), **loader_kwargs)\n",
    "    B = next(iter(loader))\n",
    "    B = batch2cpu(B, z=kp2hm(B))\n",
    "    for b,ax in zip(B, plot.grid(grid, [CROPSIZE]*2)[1]):\n",
    "      plot.overlay(b.x, b.z, b.m, b.k, b.l, cfg_base.sigma, ax=ax)\n",
    "\n",
    "  plot_grid((3,3), transforms=mkAugs('val'))\n",
    "  plot_grid((3,3), transforms=mkAugs('train'))\n",
    "\n",
    "  for B in data.mk_loader([1,2,4], cfg=cfg_base, bs=1, transforms=mkAugs('test'), shuffle=False):\n",
    "    b = batch2cpu(B, z=kp2hm(B))[0]\n",
    "    ax = plot.overlay(b.x, b.z, b.m, b.k, b.l, cfg_base.sigma)"
   ]
  },
  {
   "cell_type": "code",
   "execution_count": 4,
   "id": "2b63c7c5",
   "metadata": {
    "execution": {
     "iopub.execute_input": "2024-06-28T06:19:00.888756Z",
     "iopub.status.busy": "2024-06-28T06:19:00.888249Z",
     "iopub.status.idle": "2024-06-28T06:19:08.776280Z",
     "shell.execute_reply": "2024-06-28T06:19:08.775130Z"
    },
    "lines_to_next_cell": 1,
    "title": "# Create model"
   },
   "outputs": [],
   "source": [
    "import segmentation_models_pytorch as smp\n",
    "plt.close('all')\n",
    "\n",
    "mk_model = lambda: smp.Unet(  # NOTE TODO: check if spefically used model automatically mirror pads in training or inference\n",
    "    encoder_name=\"resnet34\" if DRAFT else \"resnet152\",  # 18 34 50 101 152\n",
    "    encoder_weights=None,\n",
    "    in_channels=3,\n",
    "    classes=1,\n",
    "    activation='sigmoid',\n",
    "  ).to(device)  "
   ]
  },
  {
   "cell_type": "code",
   "execution_count": 5,
   "id": "8d2969df",
   "metadata": {
    "execution": {
     "iopub.execute_input": "2024-06-28T06:19:08.781648Z",
     "iopub.status.busy": "2024-06-28T06:19:08.781010Z",
     "iopub.status.idle": "2024-06-28T06:42:23.714536Z",
     "shell.execute_reply": "2024-06-28T06:42:23.713239Z"
    },
    "title": "# Train"
   },
   "outputs": [
    {
     "name": "stderr",
     "output_type": "stream",
     "text": [
      "/gpfs/space/home/eckhardt/.micromamba/envs/cellnet/lib/python3.12/site-packages/onnxruntime/capi/onnxruntime_inference_collection.py:69: UserWarning: Specified provider 'CUDAExecutionProvider' is not in available provider names.Available providers: 'CPUExecutionProvider'\n",
      "  warnings.warn(\n"
     ]
    },
    {
     "data": {
      "image/png": "[encoded data removed]",
      "text/plain": [
       "<Figure size 1000x750 with 1 Axes>"
      ]
     },
     "metadata": {},
     "output_type": "display_data"
    },
    {
     "name": "stdout",
     "output_type": "stream",
     "text": [
      "DEBUG _row:\n",
      "   sigma         ti   vi        tl        vl        ta        va     lr\n",
      "0    5.0  [1, 2, 4]  [1]  0.010371  0.013567  0.983059  0.936154  0.001\n"
     ]
    }
   ],
   "source": [
    "\n",
    "#def count(y): return yunnorm(y).sum().item()\n",
    "\n",
    "def accuracy(y,z): \n",
    "  ny, nz = y.sum().item(), z.sum().item()\n",
    "  return 1 - abs(ny - nz) / (nz+1e-9)\n",
    "\n",
    "def train(epochs, model, optim, lossf, sched, kp2hm, traindl, valdl=None, info={}):\n",
    "  log = pd.DataFrame(columns='tl vl ta va lr'.split(' '), index=range(epochs))\n",
    "  def epoch(dl, train):\n",
    "    l = 0; a = 0; b = 0\n",
    "    for b, B in enumerate(dl):\n",
    "      x,m = B['image'].to(device), B['masks'][0].to(device)\n",
    "      z = kp2hm(B).to(device)\n",
    "\n",
    "      y = model(x)\n",
    "      loss = lossf(y*m, z*m) \n",
    "      l += loss.item()\n",
    "      a += accuracy(y*m, z*m) # type: ignore\n",
    "\n",
    "      if train:\n",
    "        loss.backward()\n",
    "        optim.step()\n",
    "        optim.zero_grad()\n",
    "\n",
    "    return l/(b+1), a/(b+1)\n",
    "\n",
    "  for e in range(epochs):\n",
    "    L = log.loc[e]\n",
    "    L['lr'] = optim.param_groups[0]['lr']\n",
    "  \n",
    "    model.train()\n",
    "    L['tl'], L['ta'] = epoch(traindl, train=True)\n",
    "    sched.step() \n",
    "  \n",
    "    if valdl is not None: \n",
    "      model.eval()\n",
    "      with torch.no_grad():\n",
    "        L['vl'], L['va'] = epoch(valdl, train=False) \n",
    "\n",
    "    if DRAFT: plot.train_graph(e, log, info=info, key2text=key2text, clear=True)\n",
    "  plot.train_graph(epochs, log, info=info, key2text=key2text, accuracy=False) \n",
    "  return log\n",
    "\n",
    "def loss_per_point(b, lossf, kernel=15, exclude=[]):\n",
    "  loss = lossf.__class__(reduction='none')(*[torch.tensor(x) for x in [b.y, b.z]])\n",
    "\n",
    "  p2L = np.zeros(len(b.l))\n",
    "  for i, (l, (x,y)) in enumerate(zip(b.l, b.k)):\n",
    "    if l in exclude: continue  # NOTE thats an ugly HACK that prevents us from getting the loss for the negative annotations\n",
    "    xx, yy = np.meshgrid(np.arange(loss.shape[2]), np.arange(loss.shape[1]))\n",
    "    kernel = (xx-x)**2 + (yy-y)**2 < kernel**2\n",
    "    p2L[i] = (loss * kernel).sum()\n",
    "\n",
    "  return p2L\n",
    "\n",
    "\n",
    "splits = [([1], [2])] if DRAFT else\\\n",
    "         [([1,2,4], [1])] if RELEASE else\\\n",
    "         [([1], [2,4])] if IMAGES=='one' else\\\n",
    "         [([2,4], [1]), ([1,4], [2]), ([1,2], [4])] if IMAGES=='all' else\\\n",
    "         []\n",
    "\n",
    "results = pd.DataFrame()\n",
    "if not DRAFT: [os.makedirs(_p, exist_ok=True) for _p in ('preds', 'plots')]\n",
    "\n",
    "def training_run(cfg, traindl, valdl, kp2hm, model=None):\n",
    "  global results  \n",
    "  p = cfg.__dict__[P]\n",
    "  ti=traindl.dataset.ids; vi=valdl.dataset.ids\n",
    "\n",
    "  if model is None: model = mk_model()\n",
    "  optim = torch.optim.Adam(model.parameters(), lr=5e-3)\n",
    "  lossf = torch.nn.MSELoss()\n",
    "  sched = torch.optim.lr_scheduler.StepLR(optim, step_size=int(cfg.epochs/cfg.lr_steps)+1, gamma=cfg.lr_gamma)\n",
    "\n",
    "  log = train(cfg.epochs, model, optim, lossf, sched, kp2hm, traindl, valdl, info={P: p})\n",
    "\n",
    "  _row =  pd.DataFrame(dict(**{P: [p]}, ti=[ti], vi=[vi], **log.iloc[-1]))\n",
    "  print('DEBUG _row:'); print(_row) \n",
    "  results = _row if results.empty else pd.concat([results, _row], ignore_index=True)\n",
    "\n",
    "  i2p2L = {}\n",
    "  # plot and save predictions to disk\n",
    "  for ii, t in [(ti, 'T'), (vi, 'V')]:\n",
    "    for i in ii:\n",
    "      B = next(iter(data.mk_loader([i], bs=1, transforms=mkAugs('test'), shuffle=False, cfg=cfg)))\n",
    "\n",
    "      model.eval()\n",
    "      with torch.no_grad(): y = cpu(model(B['image'].to(device)))\n",
    "      b = batch2cpu(B, z=kp2hm(B), y=y)[0]\n",
    "      del B\n",
    "\n",
    "      if cfg.rmbad != 0: # get the badly predicted points and plot them\n",
    "        p2L = loss_per_point(b, lossf, kernel=15, exclude=[2])\n",
    "        if RELEASE or i in vi: \n",
    "          i2p2L[i] = p2L  # only save the losses for the validation image \n",
    "          print(f'DEBUG: saved losses for val image {i} (should happen only once per cfg and image)')\n",
    "\n",
    "      if vi==[4] and (i in (1,4)):  # plot T1 and V4 for all [1,2]|[4] runs\n",
    "        ax1 = plot.overlay(b.x, b.y, b.m, b.k, b.l, cfg.sigma) \n",
    "        ax2 = plot.diff   (b.y, b.z, b.m, b.k, b.l, cfg.sigma)\n",
    "\n",
    "        if cfg.rmbad != 0: \n",
    "          rm = np.argsort(-p2L[i])[:int(len(B.l)*cfg.rmbad)]  # type: ignore\n",
    "          [plot.points(a, b.k[rm], b.l[rm], color='#00ff00', lw=3)\n",
    "            for a in (ax1, ax2)]\n",
    "\n",
    "        if not DRAFT :  # save but don't show\n",
    "          id = f\"{P}={p}-{t}{i}\"\n",
    "          #np.save(f'preds/{id}.npy', y)\n",
    "          plot.save(ax1, f'plots/{id}.pred.png')\n",
    "          plot.save(ax2, f'plots/{id}.diff.png')\n",
    "        if not DRAFT:\n",
    "          plt.close('all')\n",
    "\n",
    "  return dict(model=model, log=log, i2p2L=i2p2L)\n",
    "\n",
    "\n",
    "loader = lambda c, ids, mode: data.mk_loader(ids, bs=1 if mode=='test' else 16, transforms=mkAugs(mode), shuffle=False, cfg=c)\n",
    "if P not in ['sigma']: kp2hm, yunnorm = data.mk_kp2mh_yunnorm([1,2,4], cfg_base)\n",
    "\n",
    "for p in [ps[-1]] if DRAFT else ps:\n",
    "  cfg = obj(**(cfg_base.__dict__ | {P: p}))\n",
    "  if P in ['sigma']: kp2hm, yunnorm = data.mk_kp2mh_yunnorm([1,2,4], cfg)\n",
    "\n",
    "  i2p2L = {}\n",
    "\n",
    "  for ti, vi in splits:\n",
    "    cfg = obj(**(cfg.__dict__ | dict(ti=ti, vi=vi)))\n",
    "\n",
    "    traindl, valdl = loader(cfg, ti, AUGS), loader(cfg, vi, 'val' if AUGS=='train' else 'test')\n",
    "\n",
    "    out = training_run(cfg, traindl, valdl, kp2hm) # type: ignore\n",
    "    i2p2L |= out['i2p2L'] # NOTE: TODO better merge with avg instead of override if image is part of multiple validation sets # type: ignore\n",
    "    # NOTE TODO: the bad points are currently only removed during training with splits and not in release mode\n",
    "    # -> first confirm with Stuart which points are bad and then remove them in release mode\n",
    "\n",
    "  # if rmbad is set, remove the bad points and retrain\n",
    "  if cfg.rmbad != 0:\n",
    "    keep = {i: np.argsort(-p2L)[int(len(p2L)*cfg.rmbad):] for i,p2L in out['i2p2L'].items()} # type: ignore\n",
    "    for _i, k in keep.items(): \n",
    "      print(f\"DEBUG: keeping {len(k)} of {len(out['i2p2L'][_i])} points for {_i}\") # type: ignore\n",
    "\n",
    "    for ti, vi in splits:\n",
    "      cfg = obj(**(cfg.__dict__ | dict(ti=ti, vi=vi, epochs=cfg.epochs//2+1, rmbad=0.1)))\n",
    "\n",
    "      traindl, valdl = loader(cfg, ti, AUGS), loader(cfg, vi, 'val' if AUGS=='train' else 'test')\n",
    "      # remove the hard to predict annotations (only '1')\n",
    "      for ds in [traindl.dataset, valdl.dataset]:  # NOTE: because we do it for each split repeatedly its a waste of compute. More efficient: to do it once but would need a compley refactor\n",
    "        ds.P = {i: ds.P[i][keep[i]] for i in ds.P} # type: ignore\n",
    "        ds.L = {i: ds.L[i][keep[i]] for i in ds.L} # type: ignore\n",
    "        ds._generate_masks(fraction=1, sparsity=1) # type: ignore \n",
    "        # regenerate masks, but don't throw away more data\n",
    "      \n",
    "      out = training_run(cfg, traindl, valdl, kp2hm, model=out['model']) # type: ignore"
   ]
  },
  {
   "cell_type": "code",
   "execution_count": 6,
   "id": "3a3e6b17",
   "metadata": {
    "execution": {
     "iopub.execute_input": "2024-06-28T06:42:23.721247Z",
     "iopub.status.busy": "2024-06-28T06:42:23.720685Z",
     "iopub.status.idle": "2024-06-28T06:42:26.811337Z",
     "shell.execute_reply": "2024-06-28T06:42:26.809966Z"
    },
    "lines_to_next_cell": 2
   },
   "outputs": [],
   "source": [
    "if RELEASE: # save model to disk\n",
    "  B = next(iter(data.mk_loader([1], cfg=cfg_base, bs=1, transforms=mkAugs('test'), shuffle=False)))\n",
    "  x = batch2cpu(B)[0].x[None]\n",
    "  \n",
    "  m = out['model']\n",
    "  m.eval()\n",
    "\n",
    "  # save a test prediction to make sure the model works the same\n",
    "  np.save('.cache/export_test_x_1.npy', x)\n",
    "  np.save('.cache/export_test_y_1.npy', cpu(m(gpu(x))))\n",
    "\n",
    "  m.save_pretrained('./model_export')  # specific to master branch of SMP. TODO: make more robust with onnx. But see problem notes in cellnet.yml\n",
    "  os.remove('model_export/README.md')\n",
    "\n",
    "  # save the model settings\n",
    "  with open('model_export/pipeline.json', 'w') as f: json.dump(dict(xmean = _xmean, xstd = _xstd,), f, indent=2)"
   ]
  },
  {
   "cell_type": "code",
   "execution_count": 7,
   "id": "3532d78b",
   "metadata": {
    "execution": {
     "iopub.execute_input": "2024-06-28T06:42:26.817157Z",
     "iopub.status.busy": "2024-06-28T06:42:26.816448Z",
     "iopub.status.idle": "2024-06-28T06:42:26.927780Z",
     "shell.execute_reply": "2024-06-28T06:42:26.926319Z"
    },
    "title": "# save the results as csv. exclude model column; plot accuracies"
   },
   "outputs": [
    {
     "data": {
      "text/html": [
       "<div>\n",
       "<style scoped>\n",
       "    .dataframe tbody tr th:only-of-type {\n",
       "        vertical-align: middle;\n",
       "    }\n",
       "\n",
       "    .dataframe tbody tr th {\n",
       "        vertical-align: top;\n",
       "    }\n",
       "\n",
       "    .dataframe thead th {\n",
       "        text-align: right;\n",
       "    }\n",
       "</style>\n",
       "<table border=\"1\" class=\"dataframe\">\n",
       "  <thead>\n",
       "    <tr style=\"text-align: right;\">\n",
       "      <th></th>\n",
       "      <th>sigma</th>\n",
       "      <th>ti</th>\n",
       "      <th>vi</th>\n",
       "      <th>tl</th>\n",
       "      <th>vl</th>\n",
       "      <th>ta</th>\n",
       "      <th>va</th>\n",
       "      <th>lr</th>\n",
       "    </tr>\n",
       "  </thead>\n",
       "  <tbody>\n",
       "    <tr>\n",
       "      <th>0</th>\n",
       "      <td>5.0</td>\n",
       "      <td>[1, 2, 4]</td>\n",
       "      <td>[1]</td>\n",
       "      <td>0.010371</td>\n",
       "      <td>0.013567</td>\n",
       "      <td>0.983059</td>\n",
       "      <td>0.936154</td>\n",
       "      <td>0.001</td>\n",
       "    </tr>\n",
       "  </tbody>\n",
       "</table>\n",
       "</div>"
      ],
      "text/plain": [
       "   sigma         ti   vi        tl        vl        ta        va     lr\n",
       "0    5.0  [1, 2, 4]  [1]  0.010371  0.013567  0.983059  0.936154  0.001"
      ]
     },
     "execution_count": 7,
     "metadata": {},
     "output_type": "execute_result"
    }
   ],
   "source": [
    "\n",
    "if not DRAFT:\n",
    "  results.to_csv('results.csv', index=False, sep=';')\n",
    "  if not RELEASE:\n",
    "    R = pd.read_csv('results.csv', sep=';', converters=dict(ti=ast.literal_eval, vi=ast.literal_eval)).rename(columns=dict(vi=key2text['vi']))\n",
    "    plot.regplot(R, P, key2text)\n",
    "\n",
    "results"
   ]
  }
 ],
 "metadata": {
  "jupytext": {
   "cell_metadata_filter": "title,-all"
  },
  "kernelspec": {
   "display_name": "Python 3 (ipykernel)",
   "language": "python",
   "name": "python3"
  },
  "language_info": {
   "codemirror_mode": {
    "name": "ipython",
    "version": 3
   },
   "file_extension": ".py",
   "mimetype": "text/x-python",
   "name": "python",
   "nbconvert_exporter": "python",
   "pygments_lexer": "ipython3",
   "version": "3.12.4"
  }
 },
 "nbformat": 4,
 "nbformat_minor": 5
}
